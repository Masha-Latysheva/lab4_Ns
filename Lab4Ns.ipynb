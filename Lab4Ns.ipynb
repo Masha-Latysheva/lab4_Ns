{
  "nbformat": 4,
  "nbformat_minor": 0,
  "metadata": {
    "colab": {
      "provenance": []
    },
    "kernelspec": {
      "name": "python3",
      "display_name": "Python 3"
    },
    "language_info": {
      "name": "python"
    }
  },
  "cells": [
    {
      "cell_type": "markdown",
      "source": [
        "Лабораторная работа №4"
      ],
      "metadata": {
        "id": "_OYIuNh-6mNY"
      }
    },
    {
      "cell_type": "code",
      "execution_count": null,
      "metadata": {
        "id": "gXJfZu9j3ffK"
      },
      "outputs": [],
      "source": [
        "import numpy as np\n",
        "from random import random\n",
        "import math\n",
        "import os\n",
        "from os import listdir\n",
        "from PIL import Image\n",
        "import matplotlib.pyplot as plt\n",
        "from random import uniform as uniform\n",
        "from sklearn.model_selection import train_test_split\n",
        "from sklearn.metrics import jaccard_score, accuracy_score"
      ]
    },
    {
      "cell_type": "code",
      "source": [
        "from google.colab import drive\n",
        "drive.mount('/content/drive')"
      ],
      "metadata": {
        "colab": {
          "base_uri": "https://localhost:8080/"
        },
        "id": "zfG2z0l03f6t",
        "outputId": "9e5e25c9-572f-4ac2-ccf3-394d97447742"
      },
      "execution_count": null,
      "outputs": [
        {
          "output_type": "stream",
          "name": "stdout",
          "text": [
            "Mounted at /content/drive\n"
          ]
        }
      ]
    },
    {
      "cell_type": "code",
      "source": [
        "network_layer = 4 #отвечает за количество слоев\n",
        "neuron_count = [32, 24, 16, 3]"
      ],
      "metadata": {
        "id": "-mO1P5EH3f-I"
      },
      "execution_count": null,
      "outputs": []
    },
    {
      "cell_type": "code",
      "source": [
        "'''#Гиперболический тангенс\n",
        "def activate(x):\n",
        "  return math.tanh(x)"
      ],
      "metadata": {
        "id": "ySngRPdr3gAY"
      },
      "execution_count": null,
      "outputs": []
    },
    {
      "cell_type": "code",
      "source": [
        "'''#Производная от гиперболической функции\n",
        "def dy_activate(x):\n",
        "  return 1/ math.cosh(x) ** 2"
      ],
      "metadata": {
        "id": "ZvVZPS6o3gCP"
      },
      "execution_count": null,
      "outputs": []
    },
    {
      "cell_type": "code",
      "source": [
        "#Сигмовидная функция активации(позволяют нейронам как усиливать слабые сигналы, так и не насыщаться от сильных сигналов)\n",
        "def activate(x):\n",
        "  return 1 / (1 + math.pow(math.e, -x))"
      ],
      "metadata": {
        "id": "TPRFNlBa3gFQ"
      },
      "execution_count": null,
      "outputs": []
    },
    {
      "cell_type": "code",
      "source": [
        "#Relu функция активации(с ней обучение проходит быстрее)\n",
        "def Rely_activate(x):\n",
        "  return max(0.0, x)"
      ],
      "metadata": {
        "id": "x7GfaYTE3muU"
      },
      "execution_count": null,
      "outputs": []
    },
    {
      "cell_type": "code",
      "source": [
        "#Производная от Relu \n",
        "def Rely_dy_activate(x):\n",
        "  if(x >= 0):\n",
        "    return 1\n",
        "  else:\n",
        "    return 0"
      ],
      "metadata": {
        "id": "QaDwSUur3mwu"
      },
      "execution_count": null,
      "outputs": []
    },
    {
      "cell_type": "code",
      "source": [
        "#Производная от сигмоидной фукции\n",
        "def dy_activate(x):\n",
        "  return activate(x) * (1 - activate(x))"
      ],
      "metadata": {
        "id": "zIsZayLs3mzS"
      },
      "execution_count": null,
      "outputs": []
    },
    {
      "cell_type": "markdown",
      "source": [
        "Функция для работы с картинками"
      ],
      "metadata": {
        "id": "nhYXco063sM1"
      }
    },
    {
      "cell_type": "code",
      "source": [
        "class_names = ['T_shirt/top', 'Trouser', 'Pullover', 'Dress', 'Coat', 'Sandal', 'Shirt', 'Sneaker', 'Bag', 'Ankle boot']\n",
        "classA = 0\n",
        "classB = 2\n",
        "classC = 3"
      ],
      "metadata": {
        "id": "IC3lofwk3m2M"
      },
      "execution_count": null,
      "outputs": []
    },
    {
      "cell_type": "code",
      "source": [
        "from keras.datasets import fashion_mnist\n",
        "\n",
        "(x_train_fashion , y_train_fashion), (x_test_fashion , y_test_fashion) = fashion_mnist.load_data()\n",
        "#x_data = np.concatenate((x_train_fashion, x_test_fashion))\n",
        "#y_data = np.concatenate((y_train_fashion, y_test_fashion))"
      ],
      "metadata": {
        "id": "nBJh9AH73m41"
      },
      "execution_count": null,
      "outputs": []
    },
    {
      "cell_type": "code",
      "source": [
        "train_filter = np.where((y_train_fashion == classA) | (y_train_fashion == classB) | (y_train_fashion == classC))\n",
        "test_filter = np.where((y_test_fashion == classA) | (y_test_fashion == classB) | (y_test_fashion == classC))\n",
        "\n",
        "x_train , y_train = x_train_fashion[train_filter] , y_train_fashion[train_filter]\n",
        "x_test , y_test = x_test_fashion[test_filter] , y_test_fashion[test_filter]\n",
        "\n",
        "x_train , y_train = x_train[:65] , y_train[:65]# отбор картинок\n",
        "x_test, y_test = x_test[:15], y_test[:15]\n",
        "\n",
        "print('x_train: ' , x_train.shape)\n",
        "print('y_train: ' , y_train.shape)\n",
        "print('x_test: ' , x_test.shape)\n",
        "print('y_test: ' , y_test.shape)"
      ],
      "metadata": {
        "colab": {
          "base_uri": "https://localhost:8080/"
        },
        "id": "-ykS6r-Z3m8C",
        "outputId": "c876dba6-95f7-485c-fd82-6a9e3f8f2f8f"
      },
      "execution_count": null,
      "outputs": [
        {
          "output_type": "stream",
          "name": "stdout",
          "text": [
            "x_train:  (65, 28, 28)\n",
            "y_train:  (65,)\n",
            "x_test:  (15, 28, 28)\n",
            "y_test:  (15,)\n"
          ]
        }
      ]
    },
    {
      "cell_type": "code",
      "source": [
        "print(type(x_train))\n",
        "print(type(y_train))"
      ],
      "metadata": {
        "colab": {
          "base_uri": "https://localhost:8080/"
        },
        "id": "BphgRQcx3xIs",
        "outputId": "a410cada-e1b2-49af-b349-4ebe3b45b2e7"
      },
      "execution_count": null,
      "outputs": [
        {
          "output_type": "stream",
          "name": "stdout",
          "text": [
            "<class 'numpy.ndarray'>\n",
            "<class 'numpy.ndarray'>\n"
          ]
        }
      ]
    },
    {
      "cell_type": "code",
      "source": [
        "def OutputImage(x_value, y_value):\n",
        "  plt.figure(figsize = (15, 8))\n",
        "  for i in range(32):\n",
        "    plt.subplot(4 , 8 , i + 1)\n",
        "    plt.imshow(x_value[i] , cmap = \"gray\")\n",
        "    label_index = int(y_train[i])\n",
        "    plt.title(class_names[label_index])\n",
        "  plt.show()"
      ],
      "metadata": {
        "id": "AMFm7mj43xLI"
      },
      "execution_count": null,
      "outputs": []
    },
    {
      "cell_type": "code",
      "source": [
        "OutputImage(x_train, y_train)"
      ],
      "metadata": {
        "colab": {
          "base_uri": "https://localhost:8080/",
          "height": 493
        },
        "id": "RBMBK3zo3xNn",
        "outputId": "901a47bf-736a-4589-a604-359630c89cbd"
      },
      "execution_count": null,
      "outputs": [
        {
          "output_type": "display_data",
          "data": {
            "text/plain": [
              "<Figure size 1080x576 with 32 Axes>"
            ],
            "image/png": "[encoded data removed]"
          },
          "metadata": {
            "needs_background": "light"
          }
        }
      ]
    },
    {
      "cell_type": "code",
      "source": [
        "#Нормализация картинок\n",
        "x_train = np.array(x_train , np.float32).reshape([-1 , 784]) / 255.0 \n",
        "x_test = np.array(x_test , np.float32).reshape([-1 , 784]) / 255.0\n",
        "\n",
        "#Добавляем 1 в качестве bias\n",
        "x_train = ([np.append(x_train[i], 1) for i in range(len(x_train))])\n",
        "x_test = ([np.append(x_test[i], 1) for i in range(len(x_test))])"
      ],
      "metadata": {
        "id": "1Uftpsju3xQF"
      },
      "execution_count": null,
      "outputs": []
    },
    {
      "cell_type": "markdown",
      "source": [
        "Функция для работы с dataset"
      ],
      "metadata": {
        "id": "9aZF7am537BU"
      }
    },
    {
      "cell_type": "code",
      "source": [
        "def mini_batch(x_data, y_data):#в обучение отдаем части выборки, т.е. число кратное 8(аппаратная оптимизация)\n",
        "  x_train, x_test, y_train, y_test = train_test_split(x_data, y_data, test_size = 0.20, stratify=y)\n",
        "  \n",
        "  print(f\"Количество строк в y_train по классам: {np.bincount(y_train)}\")\n",
        "  print(f\"Количество строк в y_test по классам: {np.bincount(y_test)}\") \n",
        "  return x_train, y_train, x_test, y_test"
      ],
      "metadata": {
        "id": "hbyJjcid35DF"
      },
      "execution_count": null,
      "outputs": []
    },
    {
      "cell_type": "code",
      "source": [
        "def fullBatch(x_data, y_data):#всю выборку передает в обучение\n",
        "  return x_data, y_data"
      ],
      "metadata": {
        "id": "09erhAwlEac7"
      },
      "execution_count": null,
      "outputs": []
    },
    {
      "cell_type": "code",
      "source": [
        "def rename_y_value(y_value): #метод который меняет метки\n",
        "  new_mark = []\n",
        "  for i in range(len(y_value)):\n",
        "    if(y_value[i] == 0):\n",
        "      new_mark.append([1, 0, 0])# для классификации\n",
        "    elif(y_value[i] == 2):\n",
        "      new_mark.append([0, 1, 0])\n",
        "    else:\n",
        "      new_mark.append([0, 0, 1])\n",
        "  return new_mark"
      ],
      "metadata": {
        "id": "vr1qO-rQ35Ia"
      },
      "execution_count": null,
      "outputs": []
    },
    {
      "cell_type": "markdown",
      "source": [
        "Функции для работы с весами"
      ],
      "metadata": {
        "id": "1UdtZoNE4AJS"
      }
    },
    {
      "cell_type": "code",
      "source": [
        "#Функция вывода весов\n",
        "def printWeight(weights, network_layer, neuron_count):\n",
        "  for i in range(network_layer):\n",
        "    print(\"Layer --------------------- {0}\".format(i + 1))\n",
        "    for j in range(neuron_count[i]):\n",
        "      print(\"Neuron - {0}\".format(j + 1))\n",
        "      print(weights[i][j])"
      ],
      "metadata": {
        "id": "QcMpUlFK35K5"
      },
      "execution_count": null,
      "outputs": []
    },
    {
      "cell_type": "code",
      "source": [
        "#Функция генерирования рандомных весов\n",
        "def generate_weight(size_of_first_layer, neuron_count):\n",
        "  weights = []\n",
        "  for i in range(network_layer):\n",
        "    weight_layer = []\n",
        "    for j in range(neuron_count[i]):\n",
        "      weight_neuron = []\n",
        "\n",
        "      if(i == 0):\n",
        "        for m in range(size_of_first_layer):\n",
        "          weight_neuron.append(uniform(-0.5, 0.5))\n",
        "      else:\n",
        "        for m in range(neuron_count[i - 1] + 1):\n",
        "          weight_neuron.append(uniform(-0.5, 0.5))\n",
        "      weight_layer.append(weight_neuron)\n",
        "    weights.append(weight_layer)\n",
        "  return weights"
      ],
      "metadata": {
        "id": "yvYX8mHO4Aqk"
      },
      "execution_count": null,
      "outputs": []
    },
    {
      "cell_type": "code",
      "source": [
        "weights = generate_weight(len(x_train[0]), neuron_count)#генерируются веса\n",
        "print(printWeight(weights, network_layer, neuron_count))"
      ],
      "metadata": {
        "id": "cUGj2-x94Aud"
      },
      "execution_count": null,
      "outputs": []
    },
    {
      "cell_type": "code",
      "source": [
        "#Функция копирования значений весов\n",
        "def weights_copy(weights):\n",
        "  weights_copy = []\n",
        "  for i in range(len(weights)):\n",
        "    weights_layer = []\n",
        "    for j in range(len(weights[i])):\n",
        "      weights_neuron = []\n",
        "      for m in range(len(weights[i][j])):\n",
        "        weights_neuron.append(weights[i][j][m])\n",
        "      weights_layer.append(weights_neuron)\n",
        "    weights_copy.append(weights_layer)\n",
        "  return weights_copy"
      ],
      "metadata": {
        "id": "WvfM_kDD4AxC"
      },
      "execution_count": null,
      "outputs": []
    },
    {
      "cell_type": "code",
      "source": [
        "weights_bp = weights_copy(weights)"
      ],
      "metadata": {
        "id": "EBT3BqEV4AzZ"
      },
      "execution_count": null,
      "outputs": []
    },
    {
      "cell_type": "markdown",
      "source": [
        "Функция predict"
      ],
      "metadata": {
        "id": "zEbJjWMG4ORt"
      }
    },
    {
      "cell_type": "code",
      "source": [
        "def predict2_0(weights, x_train, bias):\n",
        "  output_value_by_every_layer = []\n",
        "  input_value_by_every_layer = []\n",
        "  for i in range(len(weights)):\n",
        "    input_value_of_layer = []\n",
        "    output_value_of_layer = []\n",
        "\n",
        "    for j in range(len(weights[i])):\n",
        "      output_value_neuron = 0\n",
        "\n",
        "      if(i == 0):\n",
        "        input_value_neuron = np.dot(weights[i][j], x_train)\n",
        "      else:\n",
        "        input_value_neuron = np.dot(weights[i][j], output_value_by_every_layer[i - 1])\n",
        "      \n",
        "      if(i != len(weights) - 1):\n",
        "        output_value_neuron = Rely_activate(input_value_neuron)\n",
        "      else:\n",
        "        output_value_neuron = activate(input_value_neuron)\n",
        "      output_value_of_layer.append(output_value_neuron)\n",
        "      input_value_of_layer.append(input_value_neuron)\n",
        "\n",
        "    if(i != len(weights) - 1):\n",
        "      output_value_of_layer.append(bias)\n",
        "\n",
        "    input_value_by_every_layer.append(input_value_of_layer)\n",
        "    output_value_by_every_layer.append(output_value_of_layer)\n",
        "\n",
        "    '''print(\"Layer {0}\".format(i + 1))\n",
        "    print(\"Input value\")\n",
        "    print(input_value_of_layer)\n",
        "    print(\"Output value\")\n",
        "    print(output_value_of_layer)'''\n",
        "\n",
        "  return input_value_by_every_layer, output_value_by_every_layer"
      ],
      "metadata": {
        "id": "QQSqnMLm4L9L"
      },
      "execution_count": null,
      "outputs": []
    },
    {
      "cell_type": "code",
      "source": [
        "y_train = rename_y_value(y_train)\n",
        "y_test = rename_y_value(y_test)\n",
        "\n",
        "print(y_test)\n",
        "print(y_train)"
      ],
      "metadata": {
        "colab": {
          "base_uri": "https://localhost:8080/"
        },
        "id": "9yU9iedH4L_l",
        "outputId": "62658b65-b0fc-4f94-c8a7-a9033461884e"
      },
      "execution_count": null,
      "outputs": [
        {
          "output_type": "stream",
          "name": "stdout",
          "text": [
            "[[0, 1, 0], [0, 0, 1], [0, 1, 0], [1, 0, 0], [0, 1, 0], [1, 0, 0], [0, 0, 1], [0, 0, 1], [0, 0, 1], [1, 0, 0], [0, 0, 1], [0, 1, 0], [0, 1, 0], [0, 1, 0], [0, 1, 0]]\n",
            "[[1, 0, 0], [1, 0, 0], [0, 0, 1], [1, 0, 0], [0, 1, 0], [0, 1, 0], [1, 0, 0], [1, 0, 0], [0, 0, 1], [0, 0, 1], [1, 0, 0], [0, 1, 0], [0, 0, 1], [1, 0, 0], [0, 1, 0], [0, 1, 0], [0, 0, 1], [1, 0, 0], [0, 0, 1], [0, 0, 1], [0, 0, 1], [0, 1, 0], [0, 1, 0], [0, 0, 1], [0, 0, 1], [1, 0, 0], [1, 0, 0], [0, 1, 0], [1, 0, 0], [1, 0, 0], [0, 0, 1], [0, 0, 1], [0, 0, 1], [0, 0, 1], [0, 1, 0], [0, 0, 1], [1, 0, 0], [0, 0, 1], [0, 1, 0], [0, 1, 0], [0, 1, 0], [0, 1, 0], [0, 1, 0], [1, 0, 0], [1, 0, 0], [0, 1, 0], [1, 0, 0], [0, 1, 0], [1, 0, 0], [1, 0, 0], [1, 0, 0], [1, 0, 0], [1, 0, 0], [1, 0, 0], [1, 0, 0], [0, 0, 1], [1, 0, 0], [0, 1, 0], [0, 1, 0], [1, 0, 0], [0, 0, 1], [1, 0, 0], [0, 0, 1], [0, 0, 1], [0, 1, 0]]\n"
          ]
        }
      ]
    },
    {
      "cell_type": "markdown",
      "source": [
        "Функции Acc, Loss, вывода y-предсказанного"
      ],
      "metadata": {
        "id": "N0AIo_f04UnH"
      }
    },
    {
      "cell_type": "code",
      "source": [
        "#Функция расчета значений потери между y-предсказанным и y-тестовым\n",
        "def err_loss(x, y, weights, bias):\n",
        "  loss = 0\n",
        "  last = len(weights) - 1\n",
        "  for i in range(len(x)):\n",
        "    y_inp, y_out = predict2_0(weights, x[i], bias)\n",
        "    for j in range(len(y_out[last])):\n",
        "      #loss += np.square(y_out[last][y[i].index(max(y[i]))] - max(y[i]))\n",
        "      loss += np.square(y_out[last][j] - y[i][j])\n",
        "  loss = np.sqrt(loss) / len(x)\n",
        "  return loss"
      ],
      "metadata": {
        "id": "ugZpTRh84MEV"
      },
      "execution_count": null,
      "outputs": []
    },
    {
      "cell_type": "code",
      "source": [
        "#Функция расчета hitrate\n",
        "def err_acc(x, y, weights, eps, bias):\n",
        "  hit = 0\n",
        "  out = 0\n",
        "  last = len(weights) - 1\n",
        "  for i in range(len(x)):\n",
        "    y_inp, y_out = predict2_0(weights, x[i], bias)\n",
        "    if(y_out[last].index(max(y_out[last])) == y[i].index(max(y[i]))):\n",
        "        hit = hit + 1\n",
        "  return hit / len(x)"
      ],
      "metadata": {
        "id": "NHkiizjn4XlV"
      },
      "execution_count": null,
      "outputs": []
    },
    {
      "cell_type": "code",
      "source": [
        "#Функция вывода значений y-предсказанных\n",
        "def y_out_print(weights, x_test, bias):\n",
        "  last = len(weights) - 1\n",
        "  print(\"y_out: \")\n",
        "  for i in range(len(x_test)):\n",
        "    y_predict_input, y_predict_output = predict2_0(weights, x_test[i], bias)\n",
        "    print(y_predict_output[last])\n",
        "  print(\"-----------------------------\")"
      ],
      "metadata": {
        "id": "IpOxVCvk4XoJ"
      },
      "execution_count": null,
      "outputs": []
    },
    {
      "cell_type": "markdown",
      "source": [
        "Back propogation"
      ],
      "metadata": {
        "id": "bqSLwhgD4cAu"
      }
    },
    {
      "cell_type": "code",
      "source": [
        "def back_Propogation2_0(weights, epoch, a, x_train, y_train, x_test, y_test, bias):\n",
        "  sigma_list = []\n",
        "  for i in range(len(weights)):\n",
        "    any_list = []\n",
        "    for j in range(len(weights[i])):\n",
        "      any_list.append(0)\n",
        "    sigma_list.append(any_list)\n",
        "\n",
        "  last_index = len(weights) - 1\n",
        "  error = 0\n",
        "  array_loss = []\n",
        "  array_acc = []\n",
        "  for i in range(epoch):\n",
        "    print(\"Эпоха №{0}\".format(i+ 1))\n",
        "  \n",
        "    for j in range(len(x_train)):\n",
        "      input_value, output_value = predict2_0(weights, x_train[j], bias)\n",
        "      #print(\"Веса до: \")\n",
        "      #print(printWeight(weights, network_layer, [8, 4, 3]))\n",
        "      #print(\"y_predict: {0}\".format(output_value[last_index]))\n",
        "      #print(\"y_true: {0}\".format(y_train[j]))\n",
        "     \n",
        "      #Выходные нейроны\n",
        "      for p in range(len(output_value[last_index])):\n",
        "        error = y_train[j][p] - output_value[last_index][p]\n",
        "        g = dy_activate(input_value[last_index][p]) * error\n",
        "        sigma_list[last_index][p] = g\n",
        "        \n",
        "        for m in range(len(weights[last_index][p])):\n",
        "          weights[last_index][p][m] += a * g * output_value[last_index - 1][p]\n",
        "\n",
        "      #Скрытый слой\n",
        "      for p in range(last_index - 1, -1, -1):\n",
        "        for m in range(len(weights[p])):\n",
        "          sigma = 0\n",
        "          for k in range(len(weights[p + 1])):\n",
        "            sigma += weights[p + 1][k][m] * sigma_list[p + 1][k]\n",
        "          g = sigma * Rely_dy_activate(input_value[p][m])\n",
        "          sigma_list[p][m] = g\n",
        "\n",
        "          if(p == 0):\n",
        "            for k in range(len(weights[p][m])):\n",
        "              weights[p][m][k] += g * a * x_train[j][k]\n",
        "          else:\n",
        "            for k in range(len(weights[p][m])):\n",
        "              weights[p][m][k] += g * a * output_value[p - 1][k]\n",
        "      #print(\"После: \")\n",
        "      #print(printWeight(weights, network_layer, [8, 4, 3]))\n",
        "\n",
        "    loss = err_loss(x_test, y_test, weights, bias)#ошибки\n",
        "    array_loss.append(loss)\n",
        "    acc = err_acc(x_test, y_test, weights, 0.1, bias)\n",
        "    array_acc.append(acc)\n",
        "    print(\"Loss: {0}\".format(loss))\n",
        "    print(\"Acc: {0}\".format(acc))\n",
        "\n",
        "    #print(\"True: {0}\".format(y_test))\n",
        "    #y_out_print(weights, x_test, bias)\n",
        "\n",
        "  return weights, array_loss, array_acc"
      ],
      "metadata": {
        "id": "AwVaLAAS4Xq6"
      },
      "execution_count": null,
      "outputs": []
    },
    {
      "cell_type": "code",
      "source": [
        "weights_bp, array_loss_bp, array_acc_bp = back_Propogation2_0(weights_bp, 250, 0.01, x_train, y_train, x_test, y_test, 1)"
      ],
      "metadata": {
        "colab": {
          "base_uri": "https://localhost:8080/"
        },
        "id": "c5MqSmo34XwX",
        "outputId": "edb49064-b468-4c81-c2eb-d0338fd86823"
      },
      "execution_count": null,
      "outputs": [
        {
          "output_type": "stream",
          "name": "stdout",
          "text": [
            "Эпоха №1\n",
            "Loss: 0.1650161633268943\n",
            "Acc: 0.7333333333333333\n",
            "Эпоха №2\n",
            "Loss: 0.1631618071429305\n",
            "Acc: 0.8\n",
            "Эпоха №3\n",
            "Loss: 0.1676193459072698\n",
            "Acc: 0.8\n",
            "Эпоха №4\n",
            "Loss: 0.167719219296468\n",
            "Acc: 0.8\n",
            "Эпоха №5\n",
            "Loss: 0.1671624007202833\n",
            "Acc: 0.8\n",
            "Эпоха №6\n",
            "Loss: 0.1649059277677148\n",
            "Acc: 0.8\n",
            "Эпоха №7\n",
            "Loss: 0.16680530606459365\n",
            "Acc: 0.8\n",
            "Эпоха №8\n",
            "Loss: 0.16704619819602015\n",
            "Acc: 0.8\n",
            "Эпоха №9\n",
            "Loss: 0.16738175603541655\n",
            "Acc: 0.8\n",
            "Эпоха №10\n",
            "Loss: 0.16568283559487354\n",
            "Acc: 0.8\n",
            "Эпоха №11\n",
            "Loss: 0.16478618644559975\n",
            "Acc: 0.8\n",
            "Эпоха №12\n",
            "Loss: 0.1645421941608494\n",
            "Acc: 0.8\n",
            "Эпоха №13\n",
            "Loss: 0.16473272520502247\n",
            "Acc: 0.8\n",
            "Эпоха №14\n",
            "Loss: 0.16678384107144473\n",
            "Acc: 0.8\n",
            "Эпоха №15\n",
            "Loss: 0.16437302091531134\n",
            "Acc: 0.8\n",
            "Эпоха №16\n",
            "Loss: 0.16436511705300746\n",
            "Acc: 0.8\n",
            "Эпоха №17\n",
            "Loss: 0.1643203600430588\n",
            "Acc: 0.8\n",
            "Эпоха №18\n",
            "Loss: 0.1643342943376588\n",
            "Acc: 0.8\n",
            "Эпоха №19\n",
            "Loss: 0.16423165894716357\n",
            "Acc: 0.8\n",
            "Эпоха №20\n",
            "Loss: 0.1663497093677817\n",
            "Acc: 0.8\n",
            "Эпоха №21\n",
            "Loss: 0.16404211965746907\n",
            "Acc: 0.8\n",
            "Эпоха №22\n",
            "Loss: 0.16413677882574693\n",
            "Acc: 0.8\n",
            "Эпоха №23\n",
            "Loss: 0.16302762260682063\n",
            "Acc: 0.8\n",
            "Эпоха №24\n",
            "Loss: 0.16360875735100702\n",
            "Acc: 0.8\n",
            "Эпоха №25\n",
            "Loss: 0.16361364698883862\n",
            "Acc: 0.8\n",
            "Эпоха №26\n",
            "Loss: 0.16381293406808964\n",
            "Acc: 0.8\n",
            "Эпоха №27\n",
            "Loss: 0.16182810335179829\n",
            "Acc: 0.8\n",
            "Эпоха №28\n",
            "Loss: 0.1633848272036786\n",
            "Acc: 0.7333333333333333\n",
            "Эпоха №29\n",
            "Loss: 0.1631125203825474\n",
            "Acc: 0.7333333333333333\n",
            "Эпоха №30\n",
            "Loss: 0.16114692436373784\n",
            "Acc: 0.8\n",
            "Эпоха №31\n",
            "Loss: 0.16376429326778316\n",
            "Acc: 0.8\n",
            "Эпоха №32\n",
            "Loss: 0.16288620477265509\n",
            "Acc: 0.8\n",
            "Эпоха №33\n",
            "Loss: 0.16342539062498532\n",
            "Acc: 0.7333333333333333\n",
            "Эпоха №34\n",
            "Loss: 0.1617761616693842\n",
            "Acc: 0.8\n",
            "Эпоха №35\n",
            "Loss: 0.1616319191433232\n",
            "Acc: 0.8\n",
            "Эпоха №36\n",
            "Loss: 0.16137449585833563\n",
            "Acc: 0.8\n",
            "Эпоха №37\n",
            "Loss: 0.1612049649852435\n",
            "Acc: 0.8\n",
            "Эпоха №38\n",
            "Loss: 0.1609345262216082\n",
            "Acc: 0.7333333333333333\n",
            "Эпоха №39\n",
            "Loss: 0.16095310234505789\n",
            "Acc: 0.7333333333333333\n",
            "Эпоха №40\n",
            "Loss: 0.16017245202132208\n",
            "Acc: 0.7333333333333333\n",
            "Эпоха №41\n",
            "Loss: 0.1602972050657667\n",
            "Acc: 0.7333333333333333\n",
            "Эпоха №42\n",
            "Loss: 0.1603317227816457\n",
            "Acc: 0.7333333333333333\n",
            "Эпоха №43\n",
            "Loss: 0.16012086559019073\n",
            "Acc: 0.7333333333333333\n",
            "Эпоха №44\n",
            "Loss: 0.15975608607339742\n",
            "Acc: 0.7333333333333333\n",
            "Эпоха №45\n",
            "Loss: 0.15947487247456374\n",
            "Acc: 0.7333333333333333\n",
            "Эпоха №46\n",
            "Loss: 0.16046425583692775\n",
            "Acc: 0.7333333333333333\n",
            "Эпоха №47\n",
            "Loss: 0.15996042339070154\n",
            "Acc: 0.7333333333333333\n",
            "Эпоха №48\n",
            "Loss: 0.1594118790513294\n",
            "Acc: 0.7333333333333333\n",
            "Эпоха №49\n",
            "Loss: 0.16033445591788748\n",
            "Acc: 0.7333333333333333\n",
            "Эпоха №50\n",
            "Loss: 0.16052129659563924\n",
            "Acc: 0.7333333333333333\n",
            "Эпоха №51\n",
            "Loss: 0.16098042075252803\n",
            "Acc: 0.7333333333333333\n",
            "Эпоха №52\n",
            "Loss: 0.17276562301342732\n",
            "Acc: 0.7333333333333333\n",
            "Эпоха №53\n",
            "Loss: 0.16075193091245515\n",
            "Acc: 0.8\n",
            "Эпоха №54\n",
            "Loss: 0.1740986777254347\n",
            "Acc: 0.7333333333333333\n",
            "Эпоха №55\n",
            "Loss: 0.17725642555904528\n",
            "Acc: 0.7333333333333333\n",
            "Эпоха №56\n",
            "Loss: 0.17918400046211946\n",
            "Acc: 0.7333333333333333\n",
            "Эпоха №57\n",
            "Loss: 0.18038281523527994\n",
            "Acc: 0.7333333333333333\n",
            "Эпоха №58\n",
            "Loss: 0.1860888315644276\n",
            "Acc: 0.7333333333333333\n",
            "Эпоха №59\n",
            "Loss: 0.1852337473090992\n",
            "Acc: 0.7333333333333333\n",
            "Эпоха №60\n",
            "Loss: 0.1876264158455794\n",
            "Acc: 0.7333333333333333\n",
            "Эпоха №61\n",
            "Loss: 0.19045637160044201\n",
            "Acc: 0.7333333333333333\n",
            "Эпоха №62\n",
            "Loss: 0.1919239281597838\n",
            "Acc: 0.6666666666666666\n",
            "Эпоха №63\n",
            "Loss: 0.19613769448300553\n",
            "Acc: 0.6666666666666666\n",
            "Эпоха №64\n",
            "Loss: 0.19259982182887483\n",
            "Acc: 0.6666666666666666\n",
            "Эпоха №65\n",
            "Loss: 0.19152573037530402\n",
            "Acc: 0.6666666666666666\n",
            "Эпоха №66\n",
            "Loss: 0.18868443749671815\n",
            "Acc: 0.6666666666666666\n",
            "Эпоха №67\n",
            "Loss: 0.17613813799001632\n",
            "Acc: 0.7333333333333333\n",
            "Эпоха №68\n",
            "Loss: 0.17569897990084027\n",
            "Acc: 0.7333333333333333\n",
            "Эпоха №69\n",
            "Loss: 0.17398713673171617\n",
            "Acc: 0.7333333333333333\n",
            "Эпоха №70\n",
            "Loss: 0.1729432719354563\n",
            "Acc: 0.7333333333333333\n",
            "Эпоха №71\n",
            "Loss: 0.17297686789091907\n",
            "Acc: 0.7333333333333333\n",
            "Эпоха №72\n",
            "Loss: 0.17098872376454052\n",
            "Acc: 0.7333333333333333\n",
            "Эпоха №73\n",
            "Loss: 0.1703740419045772\n",
            "Acc: 0.7333333333333333\n",
            "Эпоха №74\n",
            "Loss: 0.17024851954857495\n",
            "Acc: 0.7333333333333333\n",
            "Эпоха №75\n",
            "Loss: 0.1697341170967665\n",
            "Acc: 0.7333333333333333\n",
            "Эпоха №76\n",
            "Loss: 0.17054797013984258\n",
            "Acc: 0.7333333333333333\n",
            "Эпоха №77\n",
            "Loss: 0.16981378689746846\n",
            "Acc: 0.7333333333333333\n",
            "Эпоха №78\n",
            "Loss: 0.16887729066859133\n",
            "Acc: 0.7333333333333333\n",
            "Эпоха №79\n",
            "Loss: 0.16845093513724327\n",
            "Acc: 0.7333333333333333\n",
            "Эпоха №80\n",
            "Loss: 0.16858906137999088\n",
            "Acc: 0.7333333333333333\n",
            "Эпоха №81\n",
            "Loss: 0.16790872841971535\n",
            "Acc: 0.7333333333333333\n",
            "Эпоха №82\n",
            "Loss: 0.16824308923822867\n",
            "Acc: 0.7333333333333333\n",
            "Эпоха №83\n",
            "Loss: 0.16824758404063214\n",
            "Acc: 0.7333333333333333\n",
            "Эпоха №84\n",
            "Loss: 0.16747672138899658\n",
            "Acc: 0.7333333333333333\n",
            "Эпоха №85\n",
            "Loss: 0.16720784168982086\n",
            "Acc: 0.7333333333333333\n",
            "Эпоха №86\n",
            "Loss: 0.16722342785452235\n",
            "Acc: 0.7333333333333333\n",
            "Эпоха №87\n",
            "Loss: 0.16702756284110412\n",
            "Acc: 0.7333333333333333\n",
            "Эпоха №88\n",
            "Loss: 0.1666937880324832\n",
            "Acc: 0.7333333333333333\n",
            "Эпоха №89\n",
            "Loss: 0.1665411044362203\n",
            "Acc: 0.7333333333333333\n",
            "Эпоха №90\n",
            "Loss: 0.16656398934231978\n",
            "Acc: 0.7333333333333333\n",
            "Эпоха №91\n",
            "Loss: 0.1662515782801083\n",
            "Acc: 0.7333333333333333\n",
            "Эпоха №92\n",
            "Loss: 0.16605663992231787\n",
            "Acc: 0.7333333333333333\n",
            "Эпоха №93\n",
            "Loss: 0.16500896412867663\n",
            "Acc: 0.7333333333333333\n",
            "Эпоха №94\n",
            "Loss: 0.1664389149686891\n",
            "Acc: 0.7333333333333333\n",
            "Эпоха №95\n",
            "Loss: 0.16588412926016838\n",
            "Acc: 0.7333333333333333\n",
            "Эпоха №96\n",
            "Loss: 0.165930531886164\n",
            "Acc: 0.7333333333333333\n",
            "Эпоха №97\n",
            "Loss: 0.16589297241786913\n",
            "Acc: 0.7333333333333333\n",
            "Эпоха №98\n",
            "Loss: 0.16479411887399514\n",
            "Acc: 0.7333333333333333\n",
            "Эпоха №99\n",
            "Loss: 0.16540186848764954\n",
            "Acc: 0.7333333333333333\n",
            "Эпоха №100\n",
            "Loss: 0.16447404914155142\n",
            "Acc: 0.7333333333333333\n",
            "Эпоха №101\n",
            "Loss: 0.16529176017686897\n",
            "Acc: 0.7333333333333333\n",
            "Эпоха №102\n",
            "Loss: 0.16515013707210793\n",
            "Acc: 0.7333333333333333\n",
            "Эпоха №103\n",
            "Loss: 0.16420756668913794\n",
            "Acc: 0.7333333333333333\n",
            "Эпоха №104\n",
            "Loss: 0.16508591073299592\n",
            "Acc: 0.7333333333333333\n",
            "Эпоха №105\n",
            "Loss: 0.1649076886661107\n",
            "Acc: 0.7333333333333333\n",
            "Эпоха №106\n",
            "Loss: 0.16391825153350287\n",
            "Acc: 0.7333333333333333\n",
            "Эпоха №107\n",
            "Loss: 0.1646683012853978\n",
            "Acc: 0.7333333333333333\n",
            "Эпоха №108\n",
            "Loss: 0.16477230529666817\n",
            "Acc: 0.7333333333333333\n",
            "Эпоха №109\n",
            "Loss: 0.16379258431191374\n",
            "Acc: 0.7333333333333333\n",
            "Эпоха №110\n",
            "Loss: 0.16441320839959248\n",
            "Acc: 0.7333333333333333\n",
            "Эпоха №111\n",
            "Loss: 0.1635636832444264\n",
            "Acc: 0.7333333333333333\n",
            "Эпоха №112\n",
            "Loss: 0.16435622780119402\n",
            "Acc: 0.7333333333333333\n",
            "Эпоха №113\n",
            "Loss: 0.1639520617910428\n",
            "Acc: 0.7333333333333333\n",
            "Эпоха №114\n",
            "Loss: 0.16423422843055502\n",
            "Acc: 0.7333333333333333\n",
            "Эпоха №115\n",
            "Loss: 0.16330825646704483\n",
            "Acc: 0.7333333333333333\n",
            "Эпоха №116\n",
            "Loss: 0.1643044951277994\n",
            "Acc: 0.7333333333333333\n",
            "Эпоха №117\n",
            "Loss: 0.1634677397832916\n",
            "Acc: 0.7333333333333333\n",
            "Эпоха №118\n",
            "Loss: 0.16400081952755902\n",
            "Acc: 0.7333333333333333\n",
            "Эпоха №119\n",
            "Loss: 0.16335358404135986\n",
            "Acc: 0.7333333333333333\n",
            "Эпоха №120\n",
            "Loss: 0.16407582463604437\n",
            "Acc: 0.7333333333333333\n",
            "Эпоха №121\n",
            "Loss: 0.16380519684179073\n",
            "Acc: 0.7333333333333333\n",
            "Эпоха №122\n",
            "Loss: 0.16260068452846596\n",
            "Acc: 0.7333333333333333\n",
            "Эпоха №123\n",
            "Loss: 0.16414777472654124\n",
            "Acc: 0.7333333333333333\n",
            "Эпоха №124\n",
            "Loss: 0.163154366566249\n",
            "Acc: 0.7333333333333333\n",
            "Эпоха №125\n",
            "Loss: 0.16376974746235862\n",
            "Acc: 0.7333333333333333\n",
            "Эпоха №126\n",
            "Loss: 0.1633288494370547\n",
            "Acc: 0.7333333333333333\n",
            "Эпоха №127\n",
            "Loss: 0.1636005297845978\n",
            "Acc: 0.7333333333333333\n",
            "Эпоха №128\n",
            "Loss: 0.16372826030915869\n",
            "Acc: 0.7333333333333333\n",
            "Эпоха №129\n",
            "Loss: 0.16347602664812338\n",
            "Acc: 0.7333333333333333\n",
            "Эпоха №130\n",
            "Loss: 0.16356546250044046\n",
            "Acc: 0.7333333333333333\n",
            "Эпоха №131\n",
            "Loss: 0.1632387030651453\n",
            "Acc: 0.7333333333333333\n",
            "Эпоха №132\n",
            "Loss: 0.16330289938025747\n",
            "Acc: 0.7333333333333333\n",
            "Эпоха №133\n",
            "Loss: 0.16313843124953806\n",
            "Acc: 0.7333333333333333\n",
            "Эпоха №134\n",
            "Loss: 0.1634352828465418\n",
            "Acc: 0.7333333333333333\n",
            "Эпоха №135\n",
            "Loss: 0.16351296034727597\n",
            "Acc: 0.7333333333333333\n",
            "Эпоха №136\n",
            "Loss: 0.16277722091073896\n",
            "Acc: 0.7333333333333333\n",
            "Эпоха №137\n",
            "Loss: 0.16333723249456977\n",
            "Acc: 0.7333333333333333\n",
            "Эпоха №138\n",
            "Loss: 0.16348113618883622\n",
            "Acc: 0.7333333333333333\n",
            "Эпоха №139\n",
            "Loss: 0.1626440394586303\n",
            "Acc: 0.7333333333333333\n",
            "Эпоха №140\n",
            "Loss: 0.16242032807468298\n",
            "Acc: 0.7333333333333333\n",
            "Эпоха №141\n",
            "Loss: 0.16321456137889984\n",
            "Acc: 0.7333333333333333\n",
            "Эпоха №142\n",
            "Loss: 0.1618387586358289\n",
            "Acc: 0.7333333333333333\n",
            "Эпоха №143\n",
            "Loss: 0.16336128178844322\n",
            "Acc: 0.7333333333333333\n",
            "Эпоха №144\n",
            "Loss: 0.16341274370220701\n",
            "Acc: 0.7333333333333333\n",
            "Эпоха №145\n",
            "Loss: 0.162794960503749\n",
            "Acc: 0.7333333333333333\n",
            "Эпоха №146\n",
            "Loss: 0.16334200377088676\n",
            "Acc: 0.7333333333333333\n",
            "Эпоха №147\n",
            "Loss: 0.16215366463787598\n",
            "Acc: 0.7333333333333333\n",
            "Эпоха №148\n",
            "Loss: 0.1631197592900118\n",
            "Acc: 0.7333333333333333\n",
            "Эпоха №149\n",
            "Loss: 0.162650023182746\n",
            "Acc: 0.7333333333333333\n",
            "Эпоха №150\n",
            "Loss: 0.16213643899939784\n",
            "Acc: 0.7333333333333333\n",
            "Эпоха №151\n",
            "Loss: 0.16292945858046354\n",
            "Acc: 0.7333333333333333\n",
            "Эпоха №152\n",
            "Loss: 0.16280730487956505\n",
            "Acc: 0.7333333333333333\n",
            "Эпоха №153\n",
            "Loss: 0.1615911682547676\n",
            "Acc: 0.7333333333333333\n",
            "Эпоха №154\n",
            "Loss: 0.1624124527361146\n",
            "Acc: 0.7333333333333333\n",
            "Эпоха №155\n",
            "Loss: 0.16317900669786384\n",
            "Acc: 0.7333333333333333\n",
            "Эпоха №156\n",
            "Loss: 0.16230322743333864\n",
            "Acc: 0.7333333333333333\n",
            "Эпоха №157\n",
            "Loss: 0.16333810790283926\n",
            "Acc: 0.7333333333333333\n",
            "Эпоха №158\n",
            "Loss: 0.1622527745597804\n",
            "Acc: 0.7333333333333333\n",
            "Эпоха №159\n",
            "Loss: 0.1633278515249249\n",
            "Acc: 0.7333333333333333\n",
            "Эпоха №160\n",
            "Loss: 0.16207547143338283\n",
            "Acc: 0.7333333333333333\n",
            "Эпоха №161\n",
            "Loss: 0.16299616100619554\n",
            "Acc: 0.7333333333333333\n",
            "Эпоха №162\n",
            "Loss: 0.16261903865802355\n",
            "Acc: 0.7333333333333333\n",
            "Эпоха №163\n",
            "Loss: 0.16286827984491456\n",
            "Acc: 0.7333333333333333\n",
            "Эпоха №164\n",
            "Loss: 0.1628378592271108\n",
            "Acc: 0.7333333333333333\n",
            "Эпоха №165\n",
            "Loss: 0.16220031831234538\n",
            "Acc: 0.7333333333333333\n",
            "Эпоха №166\n",
            "Loss: 0.16198829425303812\n",
            "Acc: 0.7333333333333333\n",
            "Эпоха №167\n",
            "Loss: 0.16161573281075195\n",
            "Acc: 0.7333333333333333\n",
            "Эпоха №168\n",
            "Loss: 0.16293036904391728\n",
            "Acc: 0.7333333333333333\n",
            "Эпоха №169\n",
            "Loss: 0.16263412946505693\n",
            "Acc: 0.7333333333333333\n",
            "Эпоха №170\n",
            "Loss: 0.16231923965447675\n",
            "Acc: 0.7333333333333333\n",
            "Эпоха №171\n",
            "Loss: 0.161804873942057\n",
            "Acc: 0.7333333333333333\n",
            "Эпоха №172\n",
            "Loss: 0.16262672753206622\n",
            "Acc: 0.7333333333333333\n",
            "Эпоха №173\n",
            "Loss: 0.16226325956798401\n",
            "Acc: 0.7333333333333333\n",
            "Эпоха №174\n",
            "Loss: 0.1623051222093598\n",
            "Acc: 0.7333333333333333\n",
            "Эпоха №175\n",
            "Loss: 0.1617552659299482\n",
            "Acc: 0.7333333333333333\n",
            "Эпоха №176\n",
            "Loss: 0.16272776585832396\n",
            "Acc: 0.7333333333333333\n",
            "Эпоха №177\n",
            "Loss: 0.16195722900160317\n",
            "Acc: 0.7333333333333333\n",
            "Эпоха №178\n",
            "Loss: 0.16227080380693332\n",
            "Acc: 0.7333333333333333\n",
            "Эпоха №179\n",
            "Loss: 0.16164407446782666\n",
            "Acc: 0.7333333333333333\n",
            "Эпоха №180\n",
            "Loss: 0.1627667312553088\n",
            "Acc: 0.7333333333333333\n",
            "Эпоха №181\n",
            "Loss: 0.16203596930635586\n",
            "Acc: 0.7333333333333333\n",
            "Эпоха №182\n",
            "Loss: 0.16173259616009422\n",
            "Acc: 0.7333333333333333\n",
            "Эпоха №183\n",
            "Loss: 0.1613321012980008\n",
            "Acc: 0.7333333333333333\n",
            "Эпоха №184\n",
            "Loss: 0.1620512556211398\n",
            "Acc: 0.7333333333333333\n",
            "Эпоха №185\n",
            "Loss: 0.16166958357283687\n",
            "Acc: 0.7333333333333333\n",
            "Эпоха №186\n",
            "Loss: 0.16221217974225582\n",
            "Acc: 0.7333333333333333\n",
            "Эпоха №187\n",
            "Loss: 0.16189403959684984\n",
            "Acc: 0.7333333333333333\n",
            "Эпоха №188\n",
            "Loss: 0.16152149277175276\n",
            "Acc: 0.7333333333333333\n",
            "Эпоха №189\n",
            "Loss: 0.15995998883844723\n",
            "Acc: 0.8\n",
            "Эпоха №190\n",
            "Loss: 0.16133901778654566\n",
            "Acc: 0.7333333333333333\n",
            "Эпоха №191\n",
            "Loss: 0.1620282767328942\n",
            "Acc: 0.7333333333333333\n",
            "Эпоха №192\n",
            "Loss: 0.16158564937582817\n",
            "Acc: 0.7333333333333333\n",
            "Эпоха №193\n",
            "Loss: 0.16222230183089004\n",
            "Acc: 0.7333333333333333\n",
            "Эпоха №194\n",
            "Loss: 0.16160730076060728\n",
            "Acc: 0.7333333333333333\n",
            "Эпоха №195\n",
            "Loss: 0.16216915837723295\n",
            "Acc: 0.7333333333333333\n",
            "Эпоха №196\n",
            "Loss: 0.16178287900578883\n",
            "Acc: 0.7333333333333333\n",
            "Эпоха №197\n",
            "Loss: 0.16190259683253064\n",
            "Acc: 0.7333333333333333\n",
            "Эпоха №198\n",
            "Loss: 0.16223891967545098\n",
            "Acc: 0.7333333333333333\n",
            "Эпоха №199\n",
            "Loss: 0.16140637770680102\n",
            "Acc: 0.7333333333333333\n",
            "Эпоха №200\n",
            "Loss: 0.1620613190230546\n",
            "Acc: 0.7333333333333333\n",
            "Эпоха №201\n",
            "Loss: 0.16185333250590972\n",
            "Acc: 0.7333333333333333\n",
            "Эпоха №202\n",
            "Loss: 0.1621038570935122\n",
            "Acc: 0.7333333333333333\n",
            "Эпоха №203\n",
            "Loss: 0.16181513935839467\n",
            "Acc: 0.7333333333333333\n",
            "Эпоха №204\n",
            "Loss: 0.1612918186786847\n",
            "Acc: 0.7333333333333333\n",
            "Эпоха №205\n",
            "Loss: 0.1621830295508609\n",
            "Acc: 0.7333333333333333\n",
            "Эпоха №206\n",
            "Loss: 0.16181637620631098\n",
            "Acc: 0.7333333333333333\n",
            "Эпоха №207\n",
            "Loss: 0.16128149708929965\n",
            "Acc: 0.7333333333333333\n",
            "Эпоха №208\n",
            "Loss: 0.16211623104984227\n",
            "Acc: 0.7333333333333333\n",
            "Эпоха №209\n",
            "Loss: 0.1616398800952562\n",
            "Acc: 0.7333333333333333\n",
            "Эпоха №210\n",
            "Loss: 0.16180764743599468\n",
            "Acc: 0.7333333333333333\n",
            "Эпоха №211\n",
            "Loss: 0.16151280584077213\n",
            "Acc: 0.7333333333333333\n",
            "Эпоха №212\n",
            "Loss: 0.15963159341929062\n",
            "Acc: 0.8\n",
            "Эпоха №213\n",
            "Loss: 0.16095894913524442\n",
            "Acc: 0.7333333333333333\n",
            "Эпоха №214\n",
            "Loss: 0.16171381131090384\n",
            "Acc: 0.7333333333333333\n",
            "Эпоха №215\n",
            "Loss: 0.16138307261559576\n",
            "Acc: 0.7333333333333333\n",
            "Эпоха №216\n",
            "Loss: 0.1611891494942702\n",
            "Acc: 0.7333333333333333\n",
            "Эпоха №217\n",
            "Loss: 0.16091665599063207\n",
            "Acc: 0.7333333333333333\n",
            "Эпоха №218\n",
            "Loss: 0.1616369068410584\n",
            "Acc: 0.7333333333333333\n",
            "Эпоха №219\n",
            "Loss: 0.16140907465254353\n",
            "Acc: 0.7333333333333333\n",
            "Эпоха №220\n",
            "Loss: 0.16124864261375357\n",
            "Acc: 0.7333333333333333\n",
            "Эпоха №221\n",
            "Loss: 0.1610142090577709\n",
            "Acc: 0.7333333333333333\n",
            "Эпоха №222\n",
            "Loss: 0.1613337075658525\n",
            "Acc: 0.7333333333333333\n",
            "Эпоха №223\n",
            "Loss: 0.16103832328092774\n",
            "Acc: 0.7333333333333333\n",
            "Эпоха №224\n",
            "Loss: 0.16125953642233654\n",
            "Acc: 0.7333333333333333\n",
            "Эпоха №225\n",
            "Loss: 0.16072419956523903\n",
            "Acc: 0.7333333333333333\n",
            "Эпоха №226\n",
            "Loss: 0.16118405478148273\n",
            "Acc: 0.7333333333333333\n",
            "Эпоха №227\n",
            "Loss: 0.16099990111408238\n",
            "Acc: 0.7333333333333333\n",
            "Эпоха №228\n",
            "Loss: 0.16132342974813063\n",
            "Acc: 0.7333333333333333\n",
            "Эпоха №229\n",
            "Loss: 0.16113975947035244\n",
            "Acc: 0.7333333333333333\n",
            "Эпоха №230\n",
            "Loss: 0.16068261420433747\n",
            "Acc: 0.7333333333333333\n",
            "Эпоха №231\n",
            "Loss: 0.16115166374023618\n",
            "Acc: 0.7333333333333333\n",
            "Эпоха №232\n",
            "Loss: 0.1605611930097341\n",
            "Acc: 0.7333333333333333\n",
            "Эпоха №233\n",
            "Loss: 0.16132856052585137\n",
            "Acc: 0.7333333333333333\n",
            "Эпоха №234\n",
            "Loss: 0.16095826337716368\n",
            "Acc: 0.7333333333333333\n",
            "Эпоха №235\n",
            "Loss: 0.161051234350874\n",
            "Acc: 0.7333333333333333\n",
            "Эпоха №236\n",
            "Loss: 0.1610197129082878\n",
            "Acc: 0.7333333333333333\n",
            "Эпоха №237\n",
            "Loss: 0.16117466310978287\n",
            "Acc: 0.7333333333333333\n",
            "Эпоха №238\n",
            "Loss: 0.16100565600870903\n",
            "Acc: 0.7333333333333333\n",
            "Эпоха №239\n",
            "Loss: 0.1605239573650672\n",
            "Acc: 0.7333333333333333\n",
            "Эпоха №240\n",
            "Loss: 0.16078327768704012\n",
            "Acc: 0.7333333333333333\n",
            "Эпоха №241\n",
            "Loss: 0.1606856482566944\n",
            "Acc: 0.7333333333333333\n",
            "Эпоха №242\n",
            "Loss: 0.16108180473868827\n",
            "Acc: 0.7333333333333333\n",
            "Эпоха №243\n",
            "Loss: 0.16097733006258175\n",
            "Acc: 0.7333333333333333\n",
            "Эпоха №244\n",
            "Loss: 0.16032844380403752\n",
            "Acc: 0.7333333333333333\n",
            "Эпоха №245\n",
            "Loss: 0.16086972997798435\n",
            "Acc: 0.7333333333333333\n",
            "Эпоха №246\n",
            "Loss: 0.1605186829000165\n",
            "Acc: 0.7333333333333333\n",
            "Эпоха №247\n",
            "Loss: 0.16114737349290223\n",
            "Acc: 0.7333333333333333\n",
            "Эпоха №248\n",
            "Loss: 0.16062459055875816\n",
            "Acc: 0.7333333333333333\n",
            "Эпоха №249\n",
            "Loss: 0.16013424934943857\n",
            "Acc: 0.7333333333333333\n",
            "Эпоха №250\n",
            "Loss: 0.15881023488026733\n",
            "Acc: 0.8\n"
          ]
        }
      ]
    },
    {
      "cell_type": "code",
      "source": [
        "plt.figure(figsize = (32, 6))\n",
        "plt.subplot(1,2,1)#в зависимости от эпохи как изменяется расчет значений потери \n",
        "plt.plot(range(1 , len(array_loss_bp) + 1, 1), array_loss_bp, linewidth = 3)\n",
        "plt.xlabel(\"Эпоха\")\n",
        "plt.ylabel(\"Loss\")\n",
        "\n",
        "plt.subplot(1,2,2)#в зависимости от эпохи как изменяется точность\n",
        "plt.plot(range(1 , len(array_acc_bp) + 1, 1), array_acc_bp, linewidth = 3)\n",
        "plt.xlabel(\"Эпоха\")\n",
        "plt.ylabel(\"Accuracy\")"
      ],
      "metadata": {
        "colab": {
          "base_uri": "https://localhost:8080/",
          "height": 316
        },
        "id": "YeUfpA8H4Xyi",
        "outputId": "c099b91e-30f6-447a-a5e2-e96db5dcd706"
      },
      "execution_count": null,
      "outputs": [
        {
          "output_type": "execute_result",
          "data": {
            "text/plain": [
              "Text(0, 0.5, 'Accuracy')"
            ]
          },
          "metadata": {},
          "execution_count": 55
        },
        {
          "output_type": "display_data",
          "data": {
            "text/plain": [
              "<Figure size 2304x432 with 2 Axes>"
            ],
            "image/png": "[encoded data removed]"
          },
          "metadata": {
            "needs_background": "light"
          }
        }
      ]
    },
    {
      "cell_type": "code",
      "source": [],
      "metadata": {
        "id": "GP7OsfHk4X2N"
      },
      "execution_count": null,
      "outputs": []
    }
  ]
}